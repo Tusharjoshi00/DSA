{
 "cells": [
  {
   "cell_type": "code",
   "execution_count": 2,
   "id": "6a913921",
   "metadata": {},
   "outputs": [
    {
     "name": "stdout",
     "output_type": "stream",
     "text": [
      "-2\n"
     ]
    }
   ],
   "source": [
    "num = int(input(\"enter the number\"))\n",
    "print(num)"
   ]
  },
  {
   "cell_type": "code",
   "execution_count": 6,
   "id": "32c2c6a5",
   "metadata": {},
   "outputs": [
    {
     "name": "stdout",
     "output_type": "stream",
     "text": [
      "fail\n"
     ]
    }
   ],
   "source": [
    "# grade the student according to his marks\n",
    "num= int(input(\"enter your marks :\"))\n",
    "if num>90:\n",
    "    print(\"grade A\")\n",
    "elif num>60:\n",
    "    print(\"Grade B\")\n",
    "elif num>33:\n",
    "    print(\"grade C\")\n",
    "else:\n",
    "    print(\"fail\")\n"
   ]
  },
  {
   "cell_type": "code",
   "execution_count": 3,
   "id": "0253a03d",
   "metadata": {},
   "outputs": [
    {
     "name": "stdout",
     "output_type": "stream",
     "text": [
      "Sunday\n"
     ]
    }
   ],
   "source": [
    "# print the week like wednesday = 3\n",
    "# week= (input(\"enter the day\"))\n",
    "# if week==\"monday\":\n",
    "#     print(\"1\")\n",
    "# elif week==\"tuesday\":\n",
    "#     print((\"2\"))\n",
    "# elif week == \"wednesday\":\n",
    "#     print(\"3\")\n",
    "# elif week == \"thursday\":\n",
    "#     print(\"4\")\n",
    "# elif week ==\"friday\":\n",
    "#     print(\"5\")\n",
    "# else:\n",
    "#     print(\"weekends\")\n",
    "\n",
    "\n",
    "#---------------- better aproach\n",
    "def print_day_of_week(day):\n",
    "    \"\"\"\n",
    "    Prints the day of the week based on the given day number.\n",
    "    Week starts from Monday (1). Handles invalid inputs.\n",
    "    \"\"\"\n",
    "    if 1 <= day <= 7:\n",
    "        days = [\"Monday\", \"Tuesday\", \"Wednesday\", \"Thursday\", \"Friday\", \"Saturday\", \"Sunday\"]\n",
    "        print(days[day - 1])\n",
    "    else:\n",
    "        print(\"Invalid\")\n",
    "day=7\n",
    "print_day_of_week(day)\n"
   ]
  },
  {
   "cell_type": "code",
   "execution_count": null,
   "id": "74b487cd",
   "metadata": {},
   "outputs": [
    {
     "name": "stdout",
     "output_type": "stream",
     "text": [
      "1 1\n",
      "1 2\n",
      "1 3\n",
      "1 4\n",
      "2 1\n",
      "2 2\n",
      "2 3\n",
      "2 4\n",
      "3 1\n",
      "3 2\n",
      "3 3\n",
      "3 4\n",
      "4 1\n",
      "4 2\n",
      "4 3\n",
      "4 4\n"
     ]
    }
   ],
   "source": [
    "# pattern \n",
    "#  \n",
    "for i in range(1,5):\n",
    "    for j in range(1,5):\n",
    "\n",
    "      print(i,j)"
   ]
  },
  {
   "cell_type": "code",
   "execution_count": 5,
   "id": "ccbbe508",
   "metadata": {},
   "outputs": [
    {
     "name": "stdout",
     "output_type": "stream",
     "text": [
      "****\n",
      "****\n",
      "****\n",
      "****\n"
     ]
    }
   ],
   "source": [
    "# 1.\n",
    "p = int(input(\"enter number of time:\"))\n",
    "for i in range(p):\n",
    "    for j in range(p-1):\n",
    "        print(\"*\",end=\"\")\n",
    "    print(\"*\")\n",
    "       \n"
   ]
  },
  {
   "cell_type": "code",
   "execution_count": 7,
   "id": "5577d72b",
   "metadata": {},
   "outputs": [
    {
     "name": "stdout",
     "output_type": "stream",
     "text": [
      "* \n",
      "* * \n",
      "* * * \n",
      "* * * * \n"
     ]
    }
   ],
   "source": [
    "#2.\n",
    "p = int(input(\"Enter number: \"))\n",
    "\n",
    "for i in range(p):\n",
    "    for j in range(i + 1):\n",
    "        print(\"*\", end=\" \")\n",
    "    print()\n"
   ]
  },
  {
   "cell_type": "code",
   "execution_count": 1,
   "id": "d3009541",
   "metadata": {},
   "outputs": [
    {
     "name": "stdout",
     "output_type": "stream",
     "text": [
      "1\n",
      "22\n",
      "333\n",
      "4444\n"
     ]
    }
   ],
   "source": [
    "# 3.\n",
    "p=int(input(\"enter number of times:\"))\n",
    "for i in range(1,p+1):\n",
    "    for j in range(i):\n",
    "        print(i,end=\"\")\n",
    "    print()\n"
   ]
  },
  {
   "cell_type": "code",
   "execution_count": 93,
   "id": "d599a229",
   "metadata": {},
   "outputs": [],
   "source": [
    "#4. \n"
   ]
  },
  {
   "cell_type": "code",
   "execution_count": 105,
   "id": "c995c253",
   "metadata": {},
   "outputs": [
    {
     "name": "stdout",
     "output_type": "stream",
     "text": [
      "N: 45678\n",
      "Number of Digits in N: 5\n"
     ]
    }
   ],
   "source": [
    "# have to give the number of digit we have in input like 45 = 2\n",
    "import math\n",
    "def countDigits(n):\n",
    "    cnt = int(math.log10(n) + 1)\n",
    "    return cnt\n",
    "# if __name__ == \"__main__\":\n",
    "N = int(input(\"enter number :\"))\n",
    "print(\"N:\", N)\n",
    "digits = countDigits(N)\n",
    "print(\"Number of Digits in N:\", digits)\n"
   ]
  },
  {
   "cell_type": "code",
   "execution_count": 9,
   "id": "e4334501",
   "metadata": {},
   "outputs": [
    {
     "name": "stdout",
     "output_type": "stream",
     "text": [
      "4321\n"
     ]
    }
   ],
   "source": [
    "# reverse the integer\n",
    "# input number :             reversed number :\n",
    "# 7789%10=9                     0 x 10 +9 =9\n",
    "#   778%10 =8                    9 x 10 +8 =98\n",
    "#     77%10 =7                    98 x 10 + 7=987\n",
    "#       7%10=7                     987 x 10 + 7=9877\n",
    "\n",
    "\n",
    "\n",
    "n=int(input(\"enter your number\"))\n",
    "rev=0\n",
    "while n>0:\n",
    "    ld=n%10\n",
    "    rev=(rev*10)+ld\n",
    "    n=n//10\n",
    "print(rev)\n",
    "\n"
   ]
  },
  {
   "cell_type": "code",
   "execution_count": 10,
   "id": "94144855",
   "metadata": {},
   "outputs": [
    {
     "name": "stdout",
     "output_type": "stream",
     "text": [
      "101\n",
      "false\n"
     ]
    }
   ],
   "source": [
    "# if pallindrome print true else false\n",
    "n= int(input(\"enter number:\"))\n",
    "original=n\n",
    "rev =0\n",
    "while n > 0:\n",
    "    l=n%10\n",
    "    rev=(rev *10)+l\n",
    "    n= n//10\n",
    "print(rev)\n",
    "if rev==original:\n",
    "    print(\"true\")\n",
    "else :\n",
    "    print(\"false\")\n"
   ]
  },
  {
   "cell_type": "code",
   "execution_count": 137,
   "id": "cd2ce9ce",
   "metadata": {},
   "outputs": [
    {
     "name": "stdout",
     "output_type": "stream",
     "text": [
      "1\n",
      "2\n"
     ]
    }
   ],
   "source": [
    "# find hcf\n",
    "n1=int(input(\"enter num\"))\n",
    "n2=int(input(\"enter num\"))\n",
    "hcf=1\n",
    "for i in range(1, min(n1, n2) + 1):\n",
    "    if n1 % i == 0 and n2 % i == 0:\n",
    "        hcf=i\n",
    "        print(hcf)\n"
   ]
  },
  {
   "cell_type": "code",
   "execution_count": 147,
   "id": "fe13bf1e",
   "metadata": {},
   "outputs": [
    {
     "name": "stdout",
     "output_type": "stream",
     "text": [
      "Not an Armstrong number \n"
     ]
    }
   ],
   "source": [
    "# find number is armstrong or not\n",
    "n=int(input(\"number\"))\n",
    "original = n\n",
    "num_digits = len(str(n))\n",
    "sum_of_powers = 0\n",
    "\n",
    "while n > 0:\n",
    "    digit = n % 10\n",
    "    sum_of_powers += digit ** num_digits\n",
    "    n = n // 10\n",
    "\n",
    "if sum_of_powers == original:\n",
    "    print(\"Armstrong number \")\n",
    "else:\n",
    "    print(\"Not an Armstrong number \")\n"
   ]
  },
  {
   "cell_type": "code",
   "execution_count": null,
   "id": "157352ef",
   "metadata": {},
   "outputs": [
    {
     "name": "stdout",
     "output_type": "stream",
     "text": [
      "1,2,4,5,10,20,"
     ]
    }
   ],
   "source": [
    "n= int(input(\"enter the number\"))\n",
    "for i in range(1,n+1):\n",
    "    if n%i==0:\n",
    "        print(i,\"it is divisible\")\n",
    "    # else :\n",
    "    #     print(\"sorry\")"
   ]
  },
  {
   "cell_type": "code",
   "execution_count": 18,
   "id": "0457efdf",
   "metadata": {},
   "outputs": [
    {
     "name": "stdout",
     "output_type": "stream",
     "text": [
      "Yes, it is a prime number \n"
     ]
    }
   ],
   "source": [
    "# n= int(input(\"enter the number you want to check\"))\n",
    "# if n<=1:\n",
    "#     print(\"no wrong number\")\n",
    "# for i in range(2,n):\n",
    "#     if n%i==0:\n",
    "#         print(\"sorry it is not a prime, it is composite\")\n",
    "#         break\n",
    "#     else :\n",
    "#         print(\"yes it is prime\")\n",
    "\n",
    "## i make upper code in which according to one day superb but error is loop will be inside in the condition\n",
    "\n",
    "\n",
    "n = int(input(\"Enter the number you want to check: \"))\n",
    "\n",
    "if n <= 1:\n",
    "    print(\"Not a prime number \")\n",
    "else:\n",
    "    for i in range(2, n):\n",
    "        if n % i == 0:\n",
    "            print(\"Sorry, it is not a prime. It is composite \")\n",
    "            break\n",
    "    else:\n",
    "        print(\"Yes, it is a prime number \")\n"
   ]
  },
  {
   "cell_type": "code",
   "execution_count": 9,
   "id": "4ea67ad0",
   "metadata": {},
   "outputs": [],
   "source": [
    "# printing name N times\n",
    "def print_name(name, n):\n",
    "    if n == 0:\n",
    "        return\n",
    "    print(name)\n",
    "    print_name(name, n - 1)\n",
    "\n",
    "# Input\n",
    "name = input(\"Enter your name: \")\n",
    "n = int(input(\"How many times to print? \"))\n",
    "\n",
    "# Call the recursive function\n",
    "print_name(name, n)\n",
    "\n"
   ]
  },
  {
   "cell_type": "code",
   "execution_count": 18,
   "id": "3d5781d2",
   "metadata": {},
   "outputs": [
    {
     "name": "stdout",
     "output_type": "stream",
     "text": [
      "1\n",
      "2\n",
      "3\n",
      "4\n"
     ]
    }
   ],
   "source": [
    "#write the number to the n times from 1\n",
    "def num(n):\n",
    "    if n==0:\n",
    "        return \n",
    "    num(n-1)\n",
    "    print(n)\n",
    "n=int(input(\"enter the number\"))\n",
    "num(n)"
   ]
  },
  {
   "cell_type": "code",
   "execution_count": 23,
   "id": "27f24a1d",
   "metadata": {},
   "outputs": [
    {
     "name": "stdout",
     "output_type": "stream",
     "text": [
      "5\n",
      "4\n",
      "3\n",
      "2\n",
      "1\n"
     ]
    }
   ],
   "source": [
    "# print number from N to 1\n",
    "def num(n):\n",
    "    if n==0:\n",
    "        return \n",
    "    print(n)\n",
    "    num(n-1)\n",
    "n=int(input(\"enter the number\"))\n",
    "num(n)"
   ]
  },
  {
   "cell_type": "code",
   "execution_count": 31,
   "id": "6a7ffda4",
   "metadata": {},
   "outputs": [
    {
     "name": "stdout",
     "output_type": "stream",
     "text": [
      "Sum of first 5 natural numbers is: 15\n"
     ]
    }
   ],
   "source": [
    "# sum of first n number\n",
    "def sum_natural(n):\n",
    "    if n == 0:\n",
    "        return 0\n",
    "    return n + sum_natural(n - 1)\n",
    "\n",
    "n = int(input(\"Enter number: \"))\n",
    "print(\"Sum of first\", n, \"natural numbers is:\", sum_natural(n))\n"
   ]
  },
  {
   "cell_type": "code",
   "execution_count": 33,
   "id": "4782cc8a",
   "metadata": {},
   "outputs": [
    {
     "data": {
      "text/plain": [
       "6"
      ]
     },
     "execution_count": 33,
     "metadata": {},
     "output_type": "execute_result"
    }
   ],
   "source": [
    "# find factorial of n number\n",
    "def fact(n):\n",
    "    if n==0:\n",
    "        return 1\n",
    "    return n * fact(n-1)\n",
    "n=int(input(\"enter factorial \"))\n",
    "fact(n)"
   ]
  },
  {
   "cell_type": "code",
   "execution_count": 44,
   "id": "3dafb86f",
   "metadata": {},
   "outputs": [
    {
     "name": "stdout",
     "output_type": "stream",
     "text": [
      "1\n",
      "2\n",
      "3\n",
      "4\n",
      "5\n",
      "5,4,3,2,1,"
     ]
    }
   ],
   "source": [
    "# reverse\n",
    "def num(n):\n",
    "    if n==0:\n",
    "        return\n",
    "    num(n-1)\n",
    "    print(n)\n",
    "    \n",
    "n=int(input(\"enter\"))\n",
    "num(n)\n",
    "\n",
    "def ar(n):\n",
    "    if n==0:\n",
    "        return\n",
    "    print(n,end=\",\")\n",
    "    ar(n-1)\n",
    "\n",
    "ar(n)"
   ]
  },
  {
   "cell_type": "code",
   "execution_count": 47,
   "id": "4367ffb7",
   "metadata": {},
   "outputs": [
    {
     "name": "stdout",
     "output_type": "stream",
     "text": [
      "5,4,3,2,1,"
     ]
    }
   ],
   "source": [
    "# reverse and array direct\n",
    "def ar_rev(arr,i):\n",
    "    if i<0:\n",
    "        return\n",
    "    print(arr[i],end=\",\")\n",
    "    ar_rev(arr,i-1)\n",
    "\n",
    "arr=[1,2,3,4,5]\n",
    "ar_rev(arr,len(arr)-1)"
   ]
  },
  {
   "cell_type": "code",
   "execution_count": 8,
   "id": "b722723c",
   "metadata": {},
   "outputs": [
    {
     "name": "stdout",
     "output_type": "stream",
     "text": [
      "Palindrome\n"
     ]
    }
   ],
   "source": [
    "# check pallindrome by recursion\n",
    "def is_palindrome(s):\n",
    "    # Base case: If the string has 0 or 1 character, it's a palindrome\n",
    "    if len(s) <= 1:\n",
    "        return True\n",
    "    \n",
    "    # If the first and last characters are different, it's not a palindrome\n",
    "    if s[0] != s[-1]:\n",
    "        return False\n",
    "    \n",
    "    # Recursive step: check the substring without first and last characters\n",
    "    return is_palindrome(s[1:-1])\n",
    "\n",
    "# Example\n",
    "word = \"madam\"\n",
    "if is_palindrome(word):\n",
    "    print(\"Palindrome\")\n",
    "else:\n",
    "    print(\"Not Palindrome\")\n"
   ]
  },
  {
   "cell_type": "code",
   "execution_count": 9,
   "id": "69e36f61",
   "metadata": {},
   "outputs": [
    {
     "name": "stdout",
     "output_type": "stream",
     "text": [
      "Fibonacci series up to 5 terms:\n",
      "0 1 1 2 3 "
     ]
    }
   ],
   "source": [
    "# fibonacci series by recursion\n",
    "def fibonacci(n):\n",
    "    # Base cases: first two numbers of Fibonacci series\n",
    "    if n == 0:\n",
    "        return 0\n",
    "    elif n == 1:\n",
    "        return 1\n",
    "    else:\n",
    "        # Recursive case: sum of previous two numbers\n",
    "        return fibonacci(n - 1) + fibonacci(n - 2)\n",
    "\n",
    "# Take input\n",
    "N = int(input(\"Enter the value of N: \"))\n",
    "\n",
    "print(\"Fibonacci series up to\", N, \"terms:\")\n",
    "for i in range(N):\n",
    "    print(fibonacci(i), end=\" \")\n"
   ]
  },
  {
   "cell_type": "code",
   "execution_count": 13,
   "id": "0cc8e6e2",
   "metadata": {},
   "outputs": [
    {
     "name": "stdout",
     "output_type": "stream",
     "text": [
      "10 3\n",
      "5 1\n",
      "20 1\n",
      "32 1\n"
     ]
    }
   ],
   "source": [
    "# count the time of occurence of number ( hashing function)\n",
    "arr = list(map(int, input(\"Enter numbers separated by space: \").split()))\n",
    "freq={}\n",
    "for num in arr:\n",
    "    if num in freq:\n",
    "        freq[num]+=1\n",
    "    else:\n",
    "        freq[num]=1\n",
    "\n",
    "for key, value in freq.items():\n",
    "    print(key, value)"
   ]
  },
  {
   "cell_type": "code",
   "execution_count": 19,
   "id": "1fb49e68",
   "metadata": {},
   "outputs": [
    {
     "name": "stdout",
     "output_type": "stream",
     "text": [
      "highest are: 10 with freq 2\n",
      "lowest are: 20 with freq 1\n"
     ]
    }
   ],
   "source": [
    "# find the highest and lowest occurence of number\n",
    "arr=list(map(int,input(\"enter the list \").split()))\n",
    "freq={}\n",
    "for num in arr:\n",
    "    freq[num]=freq.get(num,0)+1\n",
    "\n",
    "highest=max(freq,key=freq.get)\n",
    "lowest = min(freq,key=freq.get)\n",
    "print(\"highest are:\",highest,\"with freq\",freq[highest])\n",
    "print(\"lowest are:\",lowest,\"with freq\",freq[lowest])"
   ]
  },
  {
   "cell_type": "code",
   "execution_count": null,
   "id": "89776810",
   "metadata": {},
   "outputs": [],
   "source": []
  }
 ],
 "metadata": {
  "kernelspec": {
   "display_name": "Python 3",
   "language": "python",
   "name": "python3"
  },
  "language_info": {
   "codemirror_mode": {
    "name": "ipython",
    "version": 3
   },
   "file_extension": ".py",
   "mimetype": "text/x-python",
   "name": "python",
   "nbconvert_exporter": "python",
   "pygments_lexer": "ipython3",
   "version": "3.11.9"
  }
 },
 "nbformat": 4,
 "nbformat_minor": 5
}
