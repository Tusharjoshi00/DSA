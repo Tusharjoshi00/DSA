{
 "cells": [
  {
   "cell_type": "code",
   "execution_count": 2,
   "id": "6a913921",
   "metadata": {},
   "outputs": [
    {
     "name": "stdout",
     "output_type": "stream",
     "text": [
      "-2\n"
     ]
    }
   ],
   "source": [
    "num = int(input(\"enter the number\"))\n",
    "print(num)"
   ]
  },
  {
   "cell_type": "code",
   "execution_count": 6,
   "id": "32c2c6a5",
   "metadata": {},
   "outputs": [
    {
     "name": "stdout",
     "output_type": "stream",
     "text": [
      "fail\n"
     ]
    }
   ],
   "source": [
    "# grade the student according to his marks\n",
    "num= int(input(\"enter your marks :\"))\n",
    "if num>90:\n",
    "    print(\"grade A\")\n",
    "elif num>60:\n",
    "    print(\"Grade B\")\n",
    "elif num>33:\n",
    "    print(\"grade C\")\n",
    "else:\n",
    "    print(\"fail\")\n"
   ]
  },
  {
   "cell_type": "code",
   "execution_count": 5,
   "id": "0253a03d",
   "metadata": {},
   "outputs": [],
   "source": [
    "# print the week like wednesday = 3\n",
    "# week= (input(\"enter the day\"))\n",
    "# if week==\"monday\":\n",
    "#     print(\"1\")\n",
    "# elif week==\"tuesday\":\n",
    "#     print((\"2\"))\n",
    "# elif week == \"wednesday\":\n",
    "#     print(\"3\")\n",
    "# elif week == \"thursday\":\n",
    "#     print(\"4\")\n",
    "# elif week ==\"friday\":\n",
    "#     print(\"5\")\n",
    "# else:\n",
    "#     print(\"weekends\")\n",
    "\n",
    "\n",
    "#---------------- better aproach\n",
    "def print_day_of_week(day):\n",
    "    \"\"\"\n",
    "    Prints the day of the week based on the given day number.\n",
    "    Week starts from Monday (1). Handles invalid inputs.\n",
    "    \"\"\"\n",
    "    if 1 <= day <= 7:\n",
    "        days = [\"Monday\", \"Tuesday\", \"Wednesday\", \"Thursday\", \"Friday\", \"Saturday\", \"Sunday\"]\n",
    "        print(days[day - 1])\n",
    "    else:\n",
    "        print(\"Invalid\")\n",
    "\n"
   ]
  },
  {
   "cell_type": "code",
   "execution_count": 7,
   "id": "74b487cd",
   "metadata": {},
   "outputs": [
    {
     "name": "stdout",
     "output_type": "stream",
     "text": [
      "1 1\n",
      "1 2\n",
      "1 3\n",
      "1 4\n",
      "2 1\n",
      "2 2\n",
      "2 3\n",
      "2 4\n",
      "3 1\n",
      "3 2\n",
      "3 3\n",
      "3 4\n",
      "4 1\n",
      "4 2\n",
      "4 3\n",
      "4 4\n"
     ]
    }
   ],
   "source": [
    "# pattern \n",
    "# 1. \n",
    "for i in range(1,5):\n",
    "    for j in range(1,5):\n",
    "\n",
    "      print(i,j)"
   ]
  },
  {
   "cell_type": "code",
   "execution_count": 39,
   "id": "ccbbe508",
   "metadata": {},
   "outputs": [
    {
     "name": "stdout",
     "output_type": "stream",
     "text": [
      "****\n",
      "****\n",
      "****\n",
      "****\n"
     ]
    }
   ],
   "source": [
    "# 2.\n",
    "p = int(input(\"enter number of time:\"))\n",
    "for i in range(p):\n",
    "    for j in range(p-1):\n",
    "        print(\"*\",end=\"\")\n",
    "    print(\"*\")\n",
    "       \n"
   ]
  },
  {
   "cell_type": "code",
   "execution_count": 50,
   "id": "5577d72b",
   "metadata": {},
   "outputs": [
    {
     "name": "stdout",
     "output_type": "stream",
     "text": [
      "*\n",
      "****\n",
      "****\n",
      "***"
     ]
    }
   ],
   "source": [
    "#3.\n",
    "p = int(input(\"enter number:\"))\n",
    "for i in range(p):\n",
    "    print(\"*\")\n",
    "    for j in range(p):\n",
    "        print(\"*\",end=\"\")\n",
    "   "
   ]
  },
  {
   "cell_type": "code",
   "execution_count": null,
   "id": "d10e367d",
   "metadata": {},
   "outputs": [],
   "source": []
  }
 ],
 "metadata": {
  "kernelspec": {
   "display_name": "Python 3",
   "language": "python",
   "name": "python3"
  },
  "language_info": {
   "codemirror_mode": {
    "name": "ipython",
    "version": 3
   },
   "file_extension": ".py",
   "mimetype": "text/x-python",
   "name": "python",
   "nbconvert_exporter": "python",
   "pygments_lexer": "ipython3",
   "version": "3.11.9"
  }
 },
 "nbformat": 4,
 "nbformat_minor": 5
}
