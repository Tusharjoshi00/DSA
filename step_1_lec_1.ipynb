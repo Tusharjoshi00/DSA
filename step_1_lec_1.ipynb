{
 "cells": [
  {
   "cell_type": "code",
   "execution_count": 2,
   "id": "6a913921",
   "metadata": {},
   "outputs": [
    {
     "name": "stdout",
     "output_type": "stream",
     "text": [
      "-2\n"
     ]
    }
   ],
   "source": [
    "num = int(input(\"enter the number\"))\n",
    "print(num)"
   ]
  },
  {
   "cell_type": "code",
   "execution_count": 6,
   "id": "32c2c6a5",
   "metadata": {},
   "outputs": [
    {
     "name": "stdout",
     "output_type": "stream",
     "text": [
      "fail\n"
     ]
    }
   ],
   "source": [
    "# grade the student according to his marks\n",
    "num= int(input(\"enter your marks :\"))\n",
    "if num>90:\n",
    "    print(\"grade A\")\n",
    "elif num>60:\n",
    "    print(\"Grade B\")\n",
    "elif num>33:\n",
    "    print(\"grade C\")\n",
    "else:\n",
    "    print(\"fail\")\n"
   ]
  },
  {
   "cell_type": "code",
   "execution_count": 2,
   "id": "0253a03d",
   "metadata": {},
   "outputs": [],
   "source": [
    "# print the week like wednesday = 3\n",
    "# week= (input(\"enter the day\"))\n",
    "# if week==\"monday\":\n",
    "#     print(\"1\")\n",
    "# elif week==\"tuesday\":\n",
    "#     print((\"2\"))\n",
    "# elif week == \"wednesday\":\n",
    "#     print(\"3\")\n",
    "# elif week == \"thursday\":\n",
    "#     print(\"4\")\n",
    "# elif week ==\"friday\":\n",
    "#     print(\"5\")\n",
    "# else:\n",
    "#     print(\"weekends\")\n",
    "\n",
    "\n",
    "#---------------- better aproach\n",
    "def print_day_of_week(day):\n",
    "    \"\"\"\n",
    "    Prints the day of the week based on the given day number.\n",
    "    Week starts from Monday (1). Handles invalid inputs.\n",
    "    \"\"\"\n",
    "    if 1 <= day <= 7:\n",
    "        days = [\"Monday\", \"Tuesday\", \"Wednesday\", \"Thursday\", \"Friday\", \"Saturday\", \"Sunday\"]\n",
    "        print(days[day - 1])\n",
    "    else:\n",
    "        print(\"Invalid\")\n",
    "\n"
   ]
  },
  {
   "cell_type": "code",
   "execution_count": null,
   "id": "74b487cd",
   "metadata": {},
   "outputs": [
    {
     "name": "stdout",
     "output_type": "stream",
     "text": [
      "1 1\n",
      "1 2\n",
      "1 3\n",
      "1 4\n",
      "2 1\n",
      "2 2\n",
      "2 3\n",
      "2 4\n",
      "3 1\n",
      "3 2\n",
      "3 3\n",
      "3 4\n",
      "4 1\n",
      "4 2\n",
      "4 3\n",
      "4 4\n"
     ]
    }
   ],
   "source": [
    "# pattern \n",
    "#  \n",
    "for i in range(1,5):\n",
    "    for j in range(1,5):\n",
    "\n",
    "      print(i,j)"
   ]
  },
  {
   "cell_type": "code",
   "execution_count": null,
   "id": "ccbbe508",
   "metadata": {},
   "outputs": [
    {
     "name": "stdout",
     "output_type": "stream",
     "text": [
      "****\n",
      "****\n",
      "****\n",
      "****\n"
     ]
    }
   ],
   "source": [
    "# 1.\n",
    "p = int(input(\"enter number of time:\"))\n",
    "for i in range(p):\n",
    "    for j in range(p-1):\n",
    "        print(\"*\",end=\"\")\n",
    "    print(\"*\")\n",
    "       \n"
   ]
  },
  {
   "cell_type": "code",
   "execution_count": null,
   "id": "5577d72b",
   "metadata": {},
   "outputs": [
    {
     "name": "stdout",
     "output_type": "stream",
     "text": [
      "* \n",
      "* * \n",
      "* * * \n",
      "* * * * \n",
      "* * * * * \n"
     ]
    }
   ],
   "source": [
    "#2.\n",
    "p = int(input(\"Enter number: \"))\n",
    "\n",
    "for i in range(p):\n",
    "    for j in range(i + 1):\n",
    "        print(\"*\", end=\" \")\n",
    "    print()\n"
   ]
  },
  {
   "cell_type": "code",
   "execution_count": 1,
   "id": "d3009541",
   "metadata": {},
   "outputs": [
    {
     "name": "stdout",
     "output_type": "stream",
     "text": [
      "1\n",
      "22\n",
      "333\n",
      "4444\n"
     ]
    }
   ],
   "source": [
    "# 3.\n",
    "p=int(input(\"enter number of times:\"))\n",
    "for i in range(1,p+1):\n",
    "    for j in range(i):\n",
    "        print(i,end=\"\")\n",
    "    print()\n"
   ]
  },
  {
   "cell_type": "code",
   "execution_count": 93,
   "id": "d599a229",
   "metadata": {},
   "outputs": [],
   "source": [
    "#4. \n"
   ]
  },
  {
   "cell_type": "code",
   "execution_count": 105,
   "id": "c995c253",
   "metadata": {},
   "outputs": [
    {
     "name": "stdout",
     "output_type": "stream",
     "text": [
      "N: 45678\n",
      "Number of Digits in N: 5\n"
     ]
    }
   ],
   "source": [
    "# have to give the number of digit we have in input like 45 = 2\n",
    "import math\n",
    "def countDigits(n):\n",
    "    cnt = int(math.log10(n) + 1)\n",
    "    return cnt\n",
    "# if __name__ == \"__main__\":\n",
    "N = int(input(\"enter number :\"))\n",
    "print(\"N:\", N)\n",
    "digits = countDigits(N)\n",
    "print(\"Number of Digits in N:\", digits)\n"
   ]
  },
  {
   "cell_type": "code",
   "execution_count": 119,
   "id": "e4334501",
   "metadata": {},
   "outputs": [
    {
     "name": "stdout",
     "output_type": "stream",
     "text": [
      "21\n"
     ]
    }
   ],
   "source": [
    "# reverse the integer\n",
    "# input number :             reversed number :\n",
    "# 7789%10=9                     0 x 10 +9 =9\n",
    "#   778%10 =8                    9 x 10 +8 =98\n",
    "#     77%10 =7                    98 x 10 + 7=987\n",
    "#       7%10=7                     987 x 10 + 7=9877\n",
    "\n",
    "\n",
    "\n",
    "n=int(input(\"enter your number\"))\n",
    "rev=0\n",
    "while n>0:\n",
    "    ld=n%10\n",
    "    rev=(rev*10)+ld\n",
    "    n=n//10\n",
    "print(rev)\n",
    "\n"
   ]
  },
  {
   "cell_type": "code",
   "execution_count": 130,
   "id": "94144855",
   "metadata": {},
   "outputs": [
    {
     "name": "stdout",
     "output_type": "stream",
     "text": [
      "321\n",
      "false\n"
     ]
    }
   ],
   "source": [
    "# if pallindrome print true else false\n",
    "n= int(input(\"enter number:\"))\n",
    "original=n\n",
    "rev =0\n",
    "while n > 0:\n",
    "    l=n%10\n",
    "    rev=(rev *10)+l\n",
    "    n= n//10\n",
    "print(rev)\n",
    "if rev==original:\n",
    "    print(\"true\")\n",
    "else :\n",
    "    print(\"false\")\n"
   ]
  },
  {
   "cell_type": "code",
   "execution_count": 137,
   "id": "cd2ce9ce",
   "metadata": {},
   "outputs": [
    {
     "name": "stdout",
     "output_type": "stream",
     "text": [
      "1\n",
      "2\n"
     ]
    }
   ],
   "source": [
    "# find hcf\n",
    "n1=int(input(\"enter num\"))\n",
    "n2=int(input(\"enter num\"))\n",
    "hcf=1\n",
    "for i in range(1, min(n1, n2) + 1):\n",
    "    if n1 % i == 0 and n2 % i == 0:\n",
    "        hcf=i\n",
    "        print(hcf)\n"
   ]
  },
  {
   "cell_type": "code",
   "execution_count": 147,
   "id": "fe13bf1e",
   "metadata": {},
   "outputs": [
    {
     "name": "stdout",
     "output_type": "stream",
     "text": [
      "Not an Armstrong number \n"
     ]
    }
   ],
   "source": [
    "# find number is armstrong or not\n",
    "n=int(input(\"number\"))\n",
    "original = n\n",
    "num_digits = len(str(n))\n",
    "sum_of_powers = 0\n",
    "\n",
    "while n > 0:\n",
    "    digit = n % 10\n",
    "    sum_of_powers += digit ** num_digits\n",
    "    n = n // 10\n",
    "\n",
    "if sum_of_powers == original:\n",
    "    print(\"Armstrong number \")\n",
    "else:\n",
    "    print(\"Not an Armstrong number \")\n"
   ]
  },
  {
   "cell_type": "code",
   "execution_count": null,
   "id": "157352ef",
   "metadata": {},
   "outputs": [
    {
     "name": "stdout",
     "output_type": "stream",
     "text": [
      "1,2,4,5,10,20,"
     ]
    }
   ],
   "source": [
    "n= int(input(\"enter the number\"))\n",
    "for i in range(1,n+1):\n",
    "    if n%i==0:\n",
    "        print(i,\"it is divisible\")\n",
    "    # else :\n",
    "    #     print(\"sorry\")"
   ]
  },
  {
   "cell_type": "code",
   "execution_count": 18,
   "id": "0457efdf",
   "metadata": {},
   "outputs": [
    {
     "name": "stdout",
     "output_type": "stream",
     "text": [
      "Yes, it is a prime number \n"
     ]
    }
   ],
   "source": [
    "# n= int(input(\"enter the number you want to check\"))\n",
    "# if n<=1:\n",
    "#     print(\"no wrong number\")\n",
    "# for i in range(2,n):\n",
    "#     if n%i==0:\n",
    "#         print(\"sorry it is not a prime, it is composite\")\n",
    "#         break\n",
    "#     else :\n",
    "#         print(\"yes it is prime\")\n",
    "\n",
    "## i make upper code in which according to one day superb but error is loop will be inside in the condition\n",
    "\n",
    "\n",
    "n = int(input(\"Enter the number you want to check: \"))\n",
    "\n",
    "if n <= 1:\n",
    "    print(\"Not a prime number \")\n",
    "else:\n",
    "    for i in range(2, n):\n",
    "        if n % i == 0:\n",
    "            print(\"Sorry, it is not a prime. It is composite \")\n",
    "            break\n",
    "    else:\n",
    "        print(\"Yes, it is a prime number \")\n"
   ]
  },
  {
   "cell_type": "code",
   "execution_count": 9,
   "id": "4ea67ad0",
   "metadata": {},
   "outputs": [],
   "source": [
    "# printing name N times\n",
    "def print_name(name, n):\n",
    "    if n == 0:\n",
    "        return\n",
    "    print(name)\n",
    "    print_name(name, n - 1)\n",
    "\n",
    "# Input\n",
    "name = input(\"Enter your name: \")\n",
    "n = int(input(\"How many times to print? \"))\n",
    "\n",
    "# Call the recursive function\n",
    "print_name(name, n)\n",
    "\n"
   ]
  },
  {
   "cell_type": "code",
   "execution_count": 18,
   "id": "3d5781d2",
   "metadata": {},
   "outputs": [
    {
     "name": "stdout",
     "output_type": "stream",
     "text": [
      "1\n",
      "2\n",
      "3\n",
      "4\n"
     ]
    }
   ],
   "source": [
    "#write the number to the n times from 1\n",
    "def num(n):\n",
    "    if n==0:\n",
    "        return \n",
    "    num(n-1)\n",
    "    print(n)\n",
    "n=int(input(\"enter the number\"))\n",
    "num(n)"
   ]
  },
  {
   "cell_type": "code",
   "execution_count": 23,
   "id": "27f24a1d",
   "metadata": {},
   "outputs": [
    {
     "name": "stdout",
     "output_type": "stream",
     "text": [
      "5\n",
      "4\n",
      "3\n",
      "2\n",
      "1\n"
     ]
    }
   ],
   "source": [
    "# print number from N to 1\n",
    "def num(n):\n",
    "    if n==0:\n",
    "        return \n",
    "    print(n)\n",
    "    num(n-1)\n",
    "n=int(input(\"enter the number\"))\n",
    "num(n)"
   ]
  },
  {
   "cell_type": "code",
   "execution_count": 31,
   "id": "6a7ffda4",
   "metadata": {},
   "outputs": [
    {
     "name": "stdout",
     "output_type": "stream",
     "text": [
      "Sum of first 5 natural numbers is: 15\n"
     ]
    }
   ],
   "source": [
    "# sum of first n number\n",
    "def sum_natural(n):\n",
    "    if n == 0:\n",
    "        return 0\n",
    "    return n + sum_natural(n - 1)\n",
    "\n",
    "n = int(input(\"Enter number: \"))\n",
    "print(\"Sum of first\", n, \"natural numbers is:\", sum_natural(n))\n"
   ]
  },
  {
   "cell_type": "code",
   "execution_count": 33,
   "id": "4782cc8a",
   "metadata": {},
   "outputs": [
    {
     "data": {
      "text/plain": [
       "6"
      ]
     },
     "execution_count": 33,
     "metadata": {},
     "output_type": "execute_result"
    }
   ],
   "source": [
    "# find factorial of n number\n",
    "def fact(n):\n",
    "    if n==0:\n",
    "        return 1\n",
    "    return n * fact(n-1)\n",
    "n=int(input(\"enter factorial \"))\n",
    "fact(n)"
   ]
  },
  {
   "cell_type": "code",
   "execution_count": null,
   "id": "c672de7b",
   "metadata": {},
   "outputs": [],
   "source": []
  }
 ],
 "metadata": {
  "kernelspec": {
   "display_name": "Python 3",
   "language": "python",
   "name": "python3"
  },
  "language_info": {
   "codemirror_mode": {
    "name": "ipython",
    "version": 3
   },
   "file_extension": ".py",
   "mimetype": "text/x-python",
   "name": "python",
   "nbconvert_exporter": "python",
   "pygments_lexer": "ipython3",
   "version": "3.11.9"
  }
 },
 "nbformat": 4,
 "nbformat_minor": 5
}
