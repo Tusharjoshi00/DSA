{
 "cells": [
  {
   "cell_type": "code",
   "execution_count": null,
   "id": "c0a1e38f",
   "metadata": {},
   "outputs": [
    {
     "name": "stdout",
     "output_type": "stream",
     "text": [
      "[1, 2, 5, 7, 9]\n"
     ]
    }
   ],
   "source": [
    "# sorting \n",
    "#selection sort\n",
    "# sort the array in ascending order\n",
    "\n",
    "# def sel(arr):\n",
    "#     n=len(arr)\n",
    "#     for i in range(n):\n",
    "#         min=i\n",
    "#         for j in range(i+1,n):\n",
    "#             if arr[j]<arr[min]:\n",
    "#              min=j\n",
    "#     arr[i],arr[min]=arr[min],arr[i]\n",
    "\n",
    "# n=int(input(\"enter \"))\n",
    "# arr=[]\n",
    "# for _ in range(n):\n",
    "#     arr.append(int(input()))\n",
    "\n",
    "# print(\"Original array:\", arr)\n",
    "# selection_sort(arr)\n",
    "# print(\"Sorted array:\", arr)\n",
    "\n",
    "#---------------------------------------------------------------------\n",
    "\n",
    "# Take array input in one line\n",
    "arr = list(map(int, input(\"Enter elements separated by space: \").split()))\n",
    "\n",
    "# Selection sort\n",
    "n=len(arr)\n",
    "for i in range(n):\n",
    "    min_index = i\n",
    "    for j in range(i + 1, n):\n",
    "        if arr[j] < arr[min_index]:\n",
    "            min_index = j\n",
    "    arr[i], arr[min_index] = arr[min_index], arr[i]\n",
    "\n",
    "print(\"Sorted array:\", arr)\n",
    "\n",
    "\n",
    "\n",
    "\n"
   ]
  },
  {
   "cell_type": "code",
   "execution_count": 2,
   "id": "00024333",
   "metadata": {},
   "outputs": [
    {
     "name": "stdout",
     "output_type": "stream",
     "text": [
      "sorted array: [5, 10, 20, 200, 500, 600]\n"
     ]
    }
   ],
   "source": [
    "## bubble sort\n",
    "arr=list(map(int,input(\"enter\").split()))\n",
    "n=len(arr)\n",
    "for i in range(n):\n",
    "    swapped=False\n",
    "    for j in range(0,n-i-1):\n",
    "        if arr[j] > arr[j + 1]:\n",
    "            arr[j], arr[j + 1] = arr[j + 1], arr[j]\n",
    "            swapped = True\n",
    "    if not swapped:\n",
    "        break\n",
    "print(\"sorted array:\",arr)"
   ]
  },
  {
   "cell_type": "code",
   "execution_count": 3,
   "id": "11e95a77",
   "metadata": {},
   "outputs": [
    {
     "name": "stdout",
     "output_type": "stream",
     "text": [
      "sorted array: [2, 5, 8, 9]\n"
     ]
    }
   ],
   "source": [
    "#insertion sort\n",
    "def inser(arr):\n",
    "   n=len(arr)\n",
    "   for i in range(1,n):\n",
    "      key=arr[i]\n",
    "      j=i-1\n",
    "\n",
    "      while j >=0 and arr[j]>key:\n",
    "         arr[j+1]=arr[j] \n",
    "         j-=1\n",
    "      arr[j+1]=key \n",
    "\n",
    "arr=[8,5,2,9]\n",
    "inser(arr)\n",
    "print(\"sorted array:\",arr)    \n"
   ]
  },
  {
   "cell_type": "code",
   "execution_count": 14,
   "id": "ae0079ba",
   "metadata": {},
   "outputs": [
    {
     "name": "stdout",
     "output_type": "stream",
     "text": [
      "original Array: [50, 40, 12, 5, 30]\n"
     ]
    },
    {
     "ename": "RecursionError",
     "evalue": "maximum recursion depth exceeded",
     "output_type": "error",
     "traceback": [
      "\u001b[31m---------------------------------------------------------------------------\u001b[39m",
      "\u001b[31mRecursionError\u001b[39m                            Traceback (most recent call last)",
      "\u001b[36mCell\u001b[39m\u001b[36m \u001b[39m\u001b[32mIn[14]\u001b[39m\u001b[32m, line 30\u001b[39m\n\u001b[32m     27\u001b[39m   \u001b[38;5;28;01mreturn\u001b[39;00m new\n\u001b[32m     29\u001b[39m \u001b[38;5;28mprint\u001b[39m(\u001b[33m\"\u001b[39m\u001b[33moriginal Array:\u001b[39m\u001b[33m\"\u001b[39m,arr)\n\u001b[32m---> \u001b[39m\u001b[32m30\u001b[39m sorted_arr=\u001b[43mmergesort\u001b[49m\u001b[43m(\u001b[49m\u001b[43marr\u001b[49m\u001b[43m)\u001b[49m\n\u001b[32m     31\u001b[39m \u001b[38;5;28mprint\u001b[39m(sorted_arr)\n",
      "\u001b[36mCell\u001b[39m\u001b[36m \u001b[39m\u001b[32mIn[14]\u001b[39m\u001b[32m, line 10\u001b[39m, in \u001b[36mmergesort\u001b[39m\u001b[34m(arr)\u001b[39m\n\u001b[32m      8\u001b[39m right=arr[:mid]\n\u001b[32m      9\u001b[39m left=arr[mid:]\n\u001b[32m---> \u001b[39m\u001b[32m10\u001b[39m left=\u001b[43mmergesort\u001b[49m\u001b[43m(\u001b[49m\u001b[43mleft\u001b[49m\u001b[43m)\u001b[49m\n\u001b[32m     11\u001b[39m right=mergesort(right)\n\u001b[32m     12\u001b[39m \u001b[38;5;28;01mreturn\u001b[39;00m mergesort(left ,right)\n",
      "\u001b[36mCell\u001b[39m\u001b[36m \u001b[39m\u001b[32mIn[14]\u001b[39m\u001b[32m, line 10\u001b[39m, in \u001b[36mmergesort\u001b[39m\u001b[34m(arr)\u001b[39m\n\u001b[32m      8\u001b[39m right=arr[:mid]\n\u001b[32m      9\u001b[39m left=arr[mid:]\n\u001b[32m---> \u001b[39m\u001b[32m10\u001b[39m left=\u001b[43mmergesort\u001b[49m\u001b[43m(\u001b[49m\u001b[43mleft\u001b[49m\u001b[43m)\u001b[49m\n\u001b[32m     11\u001b[39m right=mergesort(right)\n\u001b[32m     12\u001b[39m \u001b[38;5;28;01mreturn\u001b[39;00m mergesort(left ,right)\n",
      "    \u001b[31m[... skipping similar frames: mergesort at line 10 (2970 times)]\u001b[39m\n",
      "\u001b[36mCell\u001b[39m\u001b[36m \u001b[39m\u001b[32mIn[14]\u001b[39m\u001b[32m, line 10\u001b[39m, in \u001b[36mmergesort\u001b[39m\u001b[34m(arr)\u001b[39m\n\u001b[32m      8\u001b[39m right=arr[:mid]\n\u001b[32m      9\u001b[39m left=arr[mid:]\n\u001b[32m---> \u001b[39m\u001b[32m10\u001b[39m left=\u001b[43mmergesort\u001b[49m\u001b[43m(\u001b[49m\u001b[43mleft\u001b[49m\u001b[43m)\u001b[49m\n\u001b[32m     11\u001b[39m right=mergesort(right)\n\u001b[32m     12\u001b[39m \u001b[38;5;28;01mreturn\u001b[39;00m mergesort(left ,right)\n",
      "\u001b[31mRecursionError\u001b[39m: maximum recursion depth exceeded"
     ]
    }
   ],
   "source": [
    "# merge sort\n",
    "# basically is apart from between than compare each out\n",
    "# and then merge them back together\n",
    "arr=[50,40,12,5,30]\n",
    "def mergesort(arr):\n",
    " n=len(arr)\n",
    " mid=n//2\n",
    " right=arr[:mid]\n",
    " left=arr[mid:]\n",
    " left=mergesort(left)\n",
    " right=mergesort(right)\n",
    " return mergesort(left ,right)\n",
    "\n",
    "def merge(left,right):\n",
    " new=[]\n",
    " i=j=0\n",
    " while i<len(left) and j<len(right):\n",
    "  if left[i] < right[j]:\n",
    "   new.append(left[i])\n",
    "   i+=1\n",
    "  else:\n",
    "    new.append(right[j])\n",
    "    j+=1\n",
    "  \n",
    "  new.extend(left[i:])\n",
    "  new.extend(right[j:])\n",
    "  return new\n",
    "\n",
    "print(\"original Array:\",arr)\n",
    "sorted_arr=mergesort(arr)\n",
    "print(sorted_arr)\n",
    "\n"
   ]
  },
  {
   "cell_type": "code",
   "execution_count": null,
   "id": "f8946b17",
   "metadata": {},
   "outputs": [],
   "source": []
  }
 ],
 "metadata": {
  "kernelspec": {
   "display_name": "Python 3",
   "language": "python",
   "name": "python3"
  },
  "language_info": {
   "codemirror_mode": {
    "name": "ipython",
    "version": 3
   },
   "file_extension": ".py",
   "mimetype": "text/x-python",
   "name": "python",
   "nbconvert_exporter": "python",
   "pygments_lexer": "ipython3",
   "version": "3.11.9"
  }
 },
 "nbformat": 4,
 "nbformat_minor": 5
}
