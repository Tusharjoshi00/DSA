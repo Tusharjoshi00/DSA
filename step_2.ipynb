{
 "cells": [
  {
   "cell_type": "code",
   "execution_count": 14,
   "id": "c0a1e38f",
   "metadata": {},
   "outputs": [
    {
     "name": "stdout",
     "output_type": "stream",
     "text": [
      "Sorted array: [0, 1, 2, 4, 5, 8]\n"
     ]
    }
   ],
   "source": [
    "# sorting \n",
    "#selection sort\n",
    "# sort the array in ascending order\n",
    "\n",
    "# def sel(arr):\n",
    "#     n=len(arr)\n",
    "#     for i in range(n):\n",
    "#         min=i\n",
    "#         for j in range(i+1,n):\n",
    "#             if arr[j]<arr[min]:\n",
    "#              min=j\n",
    "#     arr[i],arr[min]=arr[min],arr[i]\n",
    "\n",
    "# n=int(input(\"enter \"))\n",
    "# arr=[]\n",
    "# for _ in range(n):\n",
    "#     arr.append(int(input()))\n",
    "\n",
    "# print(\"Original array:\", arr)\n",
    "# selection_sort(arr)\n",
    "# print(\"Sorted array:\", arr)\n",
    "\n",
    "#---------------------------------------------------------------------\n",
    "\n",
    "# Take array input in one line\n",
    "arr = list(map(int, input(\"Enter elements separated by space: \").split()))\n",
    "\n",
    "# Selection sort\n",
    "for i in range(len(arr)):\n",
    "    min_index = i\n",
    "    for j in range(i + 1, len(arr)):\n",
    "        if arr[j] < arr[min_index]:\n",
    "            min_index = j\n",
    "    arr[i], arr[min_index] = arr[min_index], arr[i]\n",
    "\n",
    "print(\"Sorted array:\", arr)\n",
    "\n",
    "\n"
   ]
  },
  {
   "cell_type": "code",
   "execution_count": 16,
   "id": "00024333",
   "metadata": {},
   "outputs": [
    {
     "name": "stdout",
     "output_type": "stream",
     "text": [
      "sorted array: [1, 2, 4, 5]\n"
     ]
    }
   ],
   "source": [
    "arr=list(map(int,input(\"enter\").split()))\n",
    "n=len(arr)\n",
    "for i in range(n):\n",
    "    # swapped=False\n",
    "    for j in range(0,n-i-1):\n",
    "        if arr[j] > arr[j + 1]:\n",
    "            arr[j], arr[j + 1] = arr[j + 1], arr[j]\n",
    "            # swapped = True\n",
    "    if not swapped:\n",
    "        break\n",
    "print(\"sorted array:\",arr)"
   ]
  },
  {
   "cell_type": "code",
   "execution_count": null,
   "id": "b2c9aeb0",
   "metadata": {},
   "outputs": [],
   "source": []
  }
 ],
 "metadata": {
  "kernelspec": {
   "display_name": "Python 3",
   "language": "python",
   "name": "python3"
  },
  "language_info": {
   "codemirror_mode": {
    "name": "ipython",
    "version": 3
   },
   "file_extension": ".py",
   "mimetype": "text/x-python",
   "name": "python",
   "nbconvert_exporter": "python",
   "pygments_lexer": "ipython3",
   "version": "3.11.9"
  }
 },
 "nbformat": 4,
 "nbformat_minor": 5
}
